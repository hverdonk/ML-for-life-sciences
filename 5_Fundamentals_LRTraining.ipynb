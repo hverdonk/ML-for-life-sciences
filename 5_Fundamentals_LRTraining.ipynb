{
  "cells": [
    {
      "cell_type": "code",
      "execution_count": 1,
      "metadata": {
        "id": "fbxDUOnDQP5f"
      },
      "outputs": [],
      "source": [
        "import numpy as np\n",
        "from numpy import ndarray\n",
        "import matplotlib.pyplot as plt\n",
        "from typing import Callable, Dict, Tuple, List\n",
        "\n",
        "np.set_printoptions(precision=4)"
      ]
    },
    {
      "cell_type": "code",
      "execution_count": 2,
      "metadata": {
        "id": "tSxNkIYbQP5g"
      },
      "outputs": [],
      "source": [
        "%load_ext autoreload\n",
        "%autoreload 2"
      ]
    },
    {
      "cell_type": "code",
      "execution_count": 3,
      "metadata": {
        "id": "pafwON-vQP5g"
      },
      "outputs": [],
      "source": [
        "TEST_ALL = False"
      ]
    },
    {
      "cell_type": "markdown",
      "metadata": {
        "id": "2n_Hen2VQP5g"
      },
      "source": [
        "# Boston data"
      ]
    },
    {
      "cell_type": "code",
      "execution_count": 4,
      "metadata": {
        "id": "9InByzw5QP5g"
      },
      "outputs": [],
      "source": [
        "from sklearn.datasets import load_boston"
      ]
    },
    {
      "cell_type": "code",
      "execution_count": 5,
      "metadata": {
        "colab": {
          "base_uri": "https://localhost:8080/"
        },
        "id": "_GpwLmojQP5h",
        "outputId": "ff619e24-07eb-432e-f8fd-873770161222"
      },
      "outputs": [
        {
          "output_type": "stream",
          "name": "stderr",
          "text": [
            "/usr/local/lib/python3.8/dist-packages/sklearn/utils/deprecation.py:87: FutureWarning: Function load_boston is deprecated; `load_boston` is deprecated in 1.0 and will be removed in 1.2.\n",
            "\n",
            "    The Boston housing prices dataset has an ethical problem. You can refer to\n",
            "    the documentation of this function for further details.\n",
            "\n",
            "    The scikit-learn maintainers therefore strongly discourage the use of this\n",
            "    dataset unless the purpose of the code is to study and educate about\n",
            "    ethical issues in data science and machine learning.\n",
            "\n",
            "    In this special case, you can fetch the dataset from the original\n",
            "    source::\n",
            "\n",
            "        import pandas as pd\n",
            "        import numpy as np\n",
            "\n",
            "\n",
            "        data_url = \"http://lib.stat.cmu.edu/datasets/boston\"\n",
            "        raw_df = pd.read_csv(data_url, sep=\"\\s+\", skiprows=22, header=None)\n",
            "        data = np.hstack([raw_df.values[::2, :], raw_df.values[1::2, :2]])\n",
            "        target = raw_df.values[1::2, 2]\n",
            "\n",
            "    Alternative datasets include the California housing dataset (i.e.\n",
            "    :func:`~sklearn.datasets.fetch_california_housing`) and the Ames housing\n",
            "    dataset. You can load the datasets as follows::\n",
            "\n",
            "        from sklearn.datasets import fetch_california_housing\n",
            "        housing = fetch_california_housing()\n",
            "\n",
            "    for the California housing dataset and::\n",
            "\n",
            "        from sklearn.datasets import fetch_openml\n",
            "        housing = fetch_openml(name=\"house_prices\", as_frame=True)\n",
            "\n",
            "    for the Ames housing dataset.\n",
            "    \n",
            "  warnings.warn(msg, category=FutureWarning)\n"
          ]
        }
      ],
      "source": [
        "boston = load_boston()"
      ]
    },
    {
      "cell_type": "code",
      "execution_count": 6,
      "metadata": {
        "id": "hkQWbKR6QP5h"
      },
      "outputs": [],
      "source": [
        "from sklearn.model_selection import train_test_split\n",
        "from sklearn.preprocessing import StandardScaler\n",
        "\n",
        "data = boston.data\n",
        "target = boston.target\n",
        "features = boston.feature_names\n",
        "\n",
        "\n",
        "s = StandardScaler()\n",
        "data = s.fit_transform(data)\n",
        "\n",
        "X_train, X_test, y_train, y_test = train_test_split(data, target, test_size=0.3, random_state=80718)\n",
        "y_train, y_test = y_train.reshape(-1, 1), y_test.reshape(-1, 1)"
      ]
    },
    {
      "cell_type": "markdown",
      "metadata": {
        "id": "30qqA1QjQP5h"
      },
      "source": [
        "# Neural network regression"
      ]
    },
    {
      "cell_type": "code",
      "execution_count": 7,
      "metadata": {
        "id": "M3-PfrRfQP5h"
      },
      "outputs": [],
      "source": [
        "def sigmoid(x: ndarray) -> ndarray:\n",
        "    return 1 / (1 + np.exp(-1.0 * x))"
      ]
    },
    {
      "cell_type": "code",
      "execution_count": 8,
      "metadata": {
        "id": "X7fQnDOKQP5h",
        "outputId": "abb02310-be3e-4bdc-f60d-ca3bfa2d2de4",
        "colab": {
          "base_uri": "https://localhost:8080/",
          "height": 295
        }
      },
      "outputs": [
        {
          "output_type": "display_data",
          "data": {
            "text/plain": [
              "<Figure size 432x288 with 1 Axes>"
            ],
            "image/png": "[encoded data removed]"
          },
          "metadata": {
            "needs_background": "light"
          }
        }
      ],
      "source": [
        "plt.plot(np.arange(-5, 5, 0.01),\n",
        "         sigmoid(np.arange(-5, 5, 0.01)));\n",
        "plt.title(\"Sigmoid function plotted from x=-5 to x=5\")\n",
        "plt.xlabel(\"X\")\n",
        "plt.ylabel(\"$sigmoid(x)$\");"
      ]
    },
    {
      "cell_type": "code",
      "execution_count": 9,
      "metadata": {
        "id": "icXgJnpRQP5i"
      },
      "outputs": [],
      "source": [
        "def permute_data(X: ndarray, y: ndarray):\n",
        "    '''\n",
        "    Permute X and y, using the same permutation, along axis=0\n",
        "    '''\n",
        "    perm = np.random.permutation(X.shape[0])\n",
        "    return X[perm], y[perm]"
      ]
    },
    {
      "cell_type": "code",
      "execution_count": 10,
      "metadata": {
        "id": "bIl9KPLbQP5i"
      },
      "outputs": [],
      "source": [
        "Batch = Tuple[ndarray, ndarray]\n",
        "\n",
        "def generate_batch(X: ndarray, \n",
        "                   y: ndarray,\n",
        "                   start: int = 0,\n",
        "                   batch_size: int = 10) -> Batch:\n",
        "    '''\n",
        "    Generate batch from X and y, given a start position\n",
        "    '''\n",
        "    assert X.ndim == y.ndim == 2, \\\n",
        "    \"X and Y must be 2 dimensional\"\n",
        "\n",
        "    if start+batch_size > X.shape[0]:\n",
        "        batch_size = X.shape[0] - start\n",
        "    \n",
        "    X_batch, y_batch = X[start:start+batch_size], y[start:start+batch_size]\n",
        "    \n",
        "    return X_batch, y_batch"
      ]
    },
    {
      "cell_type": "code",
      "execution_count": 11,
      "metadata": {
        "id": "kscp2ZRoQP5i"
      },
      "outputs": [],
      "source": [
        "def mae(preds: ndarray, actuals: ndarray):\n",
        "    '''\n",
        "    Compute mean absolute error.\n",
        "    '''\n",
        "    return np.mean(np.abs(preds - actuals))\n",
        "\n",
        "def rmse(preds: ndarray, actuals: ndarray):\n",
        "    '''\n",
        "    Compute root mean squared error.\n",
        "    '''\n",
        "    return np.sqrt(np.mean(np.power(preds - actuals, 2)))"
      ]
    },
    {
      "cell_type": "code",
      "execution_count": 12,
      "metadata": {
        "id": "hqTXdd7XQP5i"
      },
      "outputs": [],
      "source": [
        "def init_weights(input_size: int, \n",
        "                 hidden_size: int) -> Dict[str, ndarray]:\n",
        "    '''\n",
        "    Initialize weights during the forward pass for step-by-step neural network model.\n",
        "    '''\n",
        "    weights: Dict[str, ndarray] = {}\n",
        "    weights['W1'] = np.random.randn(input_size, hidden_size)\n",
        "    weights['B1'] = np.random.randn(1, hidden_size)\n",
        "    weights['W2'] = np.random.randn(hidden_size, 1)\n",
        "    weights['B2'] = np.random.randn(1, 1)\n",
        "    return weights"
      ]
    },
    {
      "cell_type": "markdown",
      "metadata": {
        "id": "0Y8-bEiWQP5i"
      },
      "source": [
        "\n",
        "#### Fill in the missing code from the forward loss function, think about each step of the neural network (Matrix multplication, add bias, pass through non linear function, repeat MM for layer 2, add bias2)."
      ]
    },
    {
      "cell_type": "code",
      "execution_count": 13,
      "metadata": {
        "id": "ge-hUspFQP5i"
      },
      "outputs": [],
      "source": [
        "def forward_loss(X: ndarray,\n",
        "                 y: ndarray,\n",
        "                 weights: Dict[str, ndarray]\n",
        "                 ) -> Tuple[Dict[str, ndarray], float]:\n",
        "    '''\n",
        "    Compute the forward pass and the loss for the step-by-step \n",
        "    neural network model.     \n",
        "    '''\n",
        "    #Fill in below\n",
        "    M1 = np.dot(X, weights['W1'])\n",
        "\n",
        "    N1 = M1 + weights['B1']\n",
        "\n",
        "    O1 = sigmoid(N1)\n",
        "    \n",
        "    M2 = np.dot(O1, weights['W2'])\n",
        "\n",
        "    P = M2 + weights['B2']\n",
        "    #------------------------\n",
        "    \n",
        "    loss = np.mean(np.power(y - P, 2))\n",
        "    \n",
        "    forward_info: Dict[str, ndarray] = {}\n",
        "    forward_info['X'] = X\n",
        "    forward_info['M1'] = M1\n",
        "    forward_info['N1'] = N1\n",
        "    forward_info['O1'] = O1\n",
        "    forward_info['M2'] = M2\n",
        "    forward_info['P'] = P\n",
        "    forward_info['y'] = y\n",
        "\n",
        "    return forward_info, loss"
      ]
    },
    {
      "cell_type": "markdown",
      "metadata": {
        "jp-MarkdownHeadingCollapsed": true,
        "tags": [],
        "id": "tqXs-ts8QP5j"
      },
      "source": [
        "#### Solution:"
      ]
    },
    {
      "cell_type": "code",
      "execution_count": null,
      "metadata": {
        "id": "O_h1gLVjQP5j"
      },
      "outputs": [],
      "source": [
        "def forward_loss(X: ndarray,\n",
        "                 y: ndarray,\n",
        "                 weights: Dict[str, ndarray]\n",
        "                 ) -> Tuple[Dict[str, ndarray], float]:\n",
        "    '''\n",
        "    Compute the forward pass and the loss for the step-by-step \n",
        "    neural network model.     \n",
        "    '''\n",
        "    M1 = np.dot(X, weights['W1'])\n",
        "\n",
        "    N1 = M1 + weights['B1']\n",
        "\n",
        "    O1 = sigmoid(N1)\n",
        "    \n",
        "    M2 = np.dot(O1, weights['W2'])\n",
        "\n",
        "    P = M2 + weights['B2']    \n",
        "\n",
        "    loss = np.mean(np.power(y - P, 2))\n",
        "    \n",
        "    forward_info: Dict[str, ndarray] = {}\n",
        "    forward_info['X'] = X\n",
        "    forward_info['M1'] = M1\n",
        "    forward_info['N1'] = N1\n",
        "    forward_info['O1'] = O1\n",
        "    forward_info['M2'] = M2\n",
        "    forward_info['P'] = P\n",
        "    forward_info['y'] = y\n",
        "\n",
        "    return forward_info, loss"
      ]
    },
    {
      "cell_type": "markdown",
      "metadata": {
        "id": "KC7YkzdMQP5j"
      },
      "source": [
        "### Gradients, Predictions, and Training:"
      ]
    },
    {
      "cell_type": "code",
      "execution_count": 14,
      "metadata": {
        "id": "zs4kiCiSQP5j"
      },
      "outputs": [],
      "source": [
        "def loss_gradients(forward_info: Dict[str, ndarray], \n",
        "                   weights: Dict[str, ndarray]) -> Dict[str, ndarray]:\n",
        "    '''\n",
        "    Compute the partial derivatives of the loss with respect to each of the parameters in the neural network.\n",
        "    '''    \n",
        "    dLdP = -(forward_info['y'] - forward_info['P'])\n",
        "    \n",
        "    dPdM2 = np.ones_like(forward_info['M2'])\n",
        "\n",
        "    dLdM2 = dLdP * dPdM2\n",
        "  \n",
        "    dPdB2 = np.ones_like(weights['B2'])\n",
        "\n",
        "    dLdB2 = (dLdP * dPdB2).sum(axis=0)\n",
        "    \n",
        "    dM2dW2 = np.transpose(forward_info['O1'], (1, 0))\n",
        "    \n",
        "    dLdW2 = np.dot(dM2dW2, dLdP)\n",
        "\n",
        "    dM2dO1 = np.transpose(weights['W2'], (1, 0)) \n",
        "\n",
        "    dLdO1 = np.dot(dLdM2, dM2dO1)\n",
        "    \n",
        "    dO1dN1 = sigmoid(forward_info['N1']) * (1- sigmoid(forward_info['N1']))\n",
        "    \n",
        "    dLdN1 = dLdO1 * dO1dN1\n",
        "    \n",
        "    dN1dB1 = np.ones_like(weights['B1'])\n",
        "    \n",
        "    dN1dM1 = np.ones_like(forward_info['M1'])\n",
        "    \n",
        "    dLdB1 = (dLdN1 * dN1dB1).sum(axis=0)\n",
        "    \n",
        "    dLdM1 = dLdN1 * dN1dM1\n",
        "    \n",
        "    dM1dW1 = np.transpose(forward_info['X'], (1, 0)) \n",
        "\n",
        "    dLdW1 = np.dot(dM1dW1, dLdM1)\n",
        "\n",
        "    loss_gradients: Dict[str, ndarray] = {}\n",
        "    loss_gradients['W2'] = dLdW2\n",
        "    loss_gradients['B2'] = dLdB2.sum(axis=0)\n",
        "    loss_gradients['W1'] = dLdW1\n",
        "    loss_gradients['B1'] = dLdB1.sum(axis=0)\n",
        "    \n",
        "    return loss_gradients"
      ]
    },
    {
      "cell_type": "code",
      "execution_count": 15,
      "metadata": {
        "id": "YDQ23mApQP5j"
      },
      "outputs": [],
      "source": [
        "def predict(X: ndarray, \n",
        "            weights: Dict[str, ndarray]) -> ndarray:\n",
        "    '''\n",
        "    Generate predictions from the step-by-step neural network model. \n",
        "    '''\n",
        "    M1 = np.dot(X, weights['W1'])\n",
        "\n",
        "    N1 = M1 + weights['B1']\n",
        "\n",
        "    O1 = sigmoid(N1)\n",
        "\n",
        "    M2 = np.dot(O1, weights['W2'])\n",
        "\n",
        "    P = M2 + weights['B2']    \n",
        "\n",
        "    return P"
      ]
    },
    {
      "cell_type": "code",
      "execution_count": 22,
      "metadata": {
        "id": "9bVbUuUPQP5j"
      },
      "outputs": [],
      "source": [
        "def train(X_train: ndarray, y_train: ndarray,\n",
        "          X_test: ndarray, y_test: ndarray,\n",
        "          n_iter: int = 1000,\n",
        "          test_every: int = 1000,\n",
        "          learning_rate: float = 0.01,\n",
        "          hidden_size= 13,\n",
        "          batch_size: int = 100,\n",
        "          return_losses: bool = False, \n",
        "          return_weights: bool = False, \n",
        "          seed: int = 1) -> None:\n",
        "\n",
        "    if seed:\n",
        "        np.random.seed(seed)\n",
        "\n",
        "    start = 0\n",
        "\n",
        "    # Initialize weights\n",
        "    weights = init_weights(X_train.shape[1], \n",
        "                           hidden_size=hidden_size)\n",
        "\n",
        "    # Permute data\n",
        "    X_train, y_train = permute_data(X_train, y_train)\n",
        "    \n",
        "\n",
        "    losses = []\n",
        "\n",
        "    for i in range(n_iter):\n",
        "\n",
        "        # Generate batch\n",
        "        if start >= X_train.shape[0]:\n",
        "            X_train, y_train = permute_data(X_train, y_train)\n",
        "            start = 0\n",
        "        \n",
        "        X_batch, y_batch = generate_batch(X_train, y_train, start, batch_size)\n",
        "        start += batch_size\n",
        "    \n",
        "        # Train net using generated batch\n",
        "        forward_info, loss = forward_loss(X_batch, y_batch, weights)\n",
        "\n",
        "        if return_losses:\n",
        "            losses.append(loss)\n",
        "\n",
        "        loss_grads = loss_gradients(forward_info, weights)\n",
        "        for key in weights.keys():\n",
        "            weights[key] -= learning_rate * loss_grads[key]\n",
        "\n",
        "    if return_weights:\n",
        "        return losses, weights\n",
        "    \n",
        "    return None"
      ]
    },
    {
      "cell_type": "code",
      "execution_count": 17,
      "metadata": {
        "id": "LwPojcI5QP5j"
      },
      "outputs": [],
      "source": [
        "if TEST_ALL:\n",
        "    num_iter = 10000\n",
        "    test_every = 1000\n",
        "    train_info = train(X_train, y_train, X_test, y_test,\n",
        "                       n_iter=num_iter,\n",
        "                       test_every = test_every,\n",
        "                       learning_rate = 0.001,\n",
        "                       batch_size=23, \n",
        "                       return_losses=False, \n",
        "                       return_weights=True, \n",
        "                       return_scores=False,\n",
        "                       seed=80718)\n",
        "    losses = train_info[0]\n",
        "    weights = train_info[1]\n",
        "    val_scores = train_info[2]"
      ]
    },
    {
      "cell_type": "code",
      "execution_count": 18,
      "metadata": {
        "scrolled": true,
        "id": "s5tjJFywQP5k"
      },
      "outputs": [],
      "source": [
        "if TEST_ALL:\n",
        "    import matplotlib.pyplot as plt\n",
        "    %matplotlib inline\n",
        "    plt.ylim([-1,1])\n",
        "    plt.plot(list(range(int(num_iter / test_every - 1))), val_scores); \n",
        "    plt.xlabel(\"Batches (000s)\")\n",
        "    plt.title(\"Validation Scores\")"
      ]
    },
    {
      "cell_type": "markdown",
      "metadata": {
        "id": "FCSqqID2QP5k"
      },
      "source": [
        "### Learning rate tuning"
      ]
    },
    {
      "cell_type": "markdown",
      "metadata": {
        "id": "6vQO9oJ9QP5k"
      },
      "source": [
        "#### Pick 5 learning rates between 10e-2 and 10e-6, put them in a list. Loop through them and using the above train function, train the model using each learning rate. Using the above predict function, generate predictions and check the Mean Absolute Error (mae) and Root Mean Squared Error (rmse) for each learning rate and compare the results. "
      ]
    },
    {
      "cell_type": "code",
      "execution_count": 23,
      "metadata": {
        "id": "wQIPdqEaQP5k",
        "colab": {
          "base_uri": "https://localhost:8080/"
        },
        "outputId": "0d42f4ed-2c95-46c0-a7bc-ec8e47ef04ea"
      },
      "outputs": [
        {
          "output_type": "stream",
          "name": "stdout",
          "text": [
            "Learning rate: 0.01\n",
            "Mean Absolute Error: 2.716529, Root Mean Squared Error: 3.614856\n",
            "\n",
            "Learning rate: 0.001\n",
            "Mean Absolute Error: 2.926838, Root Mean Squared Error: 4.241870\n",
            "\n",
            "Learning rate: 0.0001\n",
            "Mean Absolute Error: 2.460066, Root Mean Squared Error: 3.625732\n",
            "\n",
            "Learning rate: 1e-05\n",
            "Mean Absolute Error: 2.602288, Root Mean Squared Error: 4.133154\n",
            "\n",
            "Learning rate: 1e-06\n",
            "Mean Absolute Error: 3.807903, Root Mean Squared Error: 5.708256\n",
            "\n"
          ]
        }
      ],
      "source": [
        "#Code\n",
        "rates = [10**-2, 10**-3, 10**-4, 10**-5, 10**-6]\n",
        "\n",
        "for rate in rates:\n",
        "  print(\"Learning rate: \" + str(rate))\n",
        "  train_info = train(X_train, y_train, X_test, y_test,\n",
        "                   n_iter=100000,\n",
        "                   test_every = 1000,\n",
        "                   learning_rate = rate,\n",
        "                   batch_size=23, \n",
        "                   return_losses=True, \n",
        "                   return_weights=True, \n",
        "                   seed=180807)\n",
        "  losses = train_info[0]\n",
        "  weights = train_info[1]\n",
        "\n",
        "  preds = predict(X=X_test, weights=weights)\n",
        "\n",
        "  print(\"Mean Absolute Error: %f, Root Mean Squared Error: %f\" % (mae(preds=preds, actuals=y_test), rmse(preds=preds, actuals=y_test)))\n",
        "  print()\n",
        "    \n",
        "\n"
      ]
    },
    {
      "cell_type": "markdown",
      "metadata": {
        "jp-MarkdownHeadingCollapsed": true,
        "tags": [],
        "id": "CEF8lrnDQP5k"
      },
      "source": [
        "#### Solution:"
      ]
    },
    {
      "cell_type": "code",
      "execution_count": 36,
      "metadata": {
        "id": "q5pr5FRwQP5k",
        "outputId": "556348cb-31e8-4492-f67d-64a885c79d86",
        "colab": {
          "base_uri": "https://localhost:8080/"
        }
      },
      "outputs": [
        {
          "output_type": "stream",
          "name": "stdout",
          "text": [
            "For Learning Rate:  0.0001\n",
            "Mean absolute error: 3.8296 \n",
            "Root mean squared error: 5.7104 \n",
            "\n",
            "For Learning Rate:  0.001\n",
            "Mean absolute error: 2.6859 \n",
            "Root mean squared error: 4.1541 \n",
            "\n",
            "For Learning Rate:  0.0025\n",
            "Mean absolute error: 2.5004 \n",
            "Root mean squared error: 3.8419 \n",
            "\n",
            "For Learning Rate:  0.005\n",
            "Mean absolute error: 2.7075 \n",
            "Root mean squared error: 4.1213 \n",
            "\n",
            "For Learning Rate:  0.01\n",
            "Mean absolute error: 2.3831 \n",
            "Root mean squared error: 3.5471 \n",
            "\n"
          ]
        }
      ],
      "source": [
        "rates = [0.0001, 0.001, 0.0025, 0.005, 0.01]\n",
        "\n",
        "for lr in rates:\n",
        "    train_info = train(X_train, y_train, X_test, y_test,\n",
        "                       n_iter=1000,\n",
        "                       test_every = 1000,\n",
        "                       learning_rate = lr,\n",
        "                       batch_size=23, \n",
        "                       return_losses=True, \n",
        "                       return_weights=True, \n",
        "                       seed=180807)\n",
        "\n",
        "\n",
        "    losses = train_info[0]\n",
        "    weights = train_info[1]\n",
        "    preds = predict(X_test, weights)\n",
        "    print(\"For Learning Rate: \", lr)\n",
        "    print(\"Mean absolute error:\", round(mae(preds, y_test), 4), \"\\n\"\n",
        "          \"Root mean squared error:\", round(rmse(preds, y_test), 4), \"\\n\")\n"
      ]
    },
    {
      "cell_type": "markdown",
      "metadata": {
        "tags": [],
        "id": "zl95czXPQP5k"
      },
      "source": [
        "## Evaluating best model"
      ]
    },
    {
      "cell_type": "code",
      "execution_count": null,
      "metadata": {
        "id": "yh9_lzIrQP5k"
      },
      "outputs": [],
      "source": [
        "train_info = train(X_train, y_train, X_test, y_test,\n",
        "                   n_iter=10000,\n",
        "                   test_every = 1000,\n",
        "                   learning_rate = 0.001,\n",
        "                   batch_size=23, \n",
        "                   return_losses=True, \n",
        "                   return_weights=True, \n",
        "                   seed=180807)\n",
        "losses = train_info[0]\n",
        "weights = train_info[1]"
      ]
    },
    {
      "cell_type": "code",
      "execution_count": null,
      "metadata": {
        "id": "eknhE1qzQP5k",
        "outputId": "503bb100-f0be-404b-ffbd-21eaad308625",
        "colab": {
          "base_uri": "https://localhost:8080/",
          "height": 265
        }
      },
      "outputs": [
        {
          "output_type": "display_data",
          "data": {
            "text/plain": [
              "<Figure size 432x288 with 1 Axes>"
            ],
            "image/png": "[encoded data removed]"
          },
          "metadata": {
            "needs_background": "light"
          }
        }
      ],
      "source": [
        "plt.plot(list(range(10000)), losses);"
      ]
    },
    {
      "cell_type": "code",
      "execution_count": null,
      "metadata": {
        "id": "GOz0BCXJQP5k"
      },
      "outputs": [],
      "source": [
        "preds = predict(X_test, weights)"
      ]
    },
    {
      "cell_type": "markdown",
      "metadata": {
        "id": "m7UDVs7gQP5l"
      },
      "source": [
        "## Investigation of most important features"
      ]
    },
    {
      "cell_type": "markdown",
      "metadata": {
        "id": "DmsrhgxQQP5l"
      },
      "source": [
        "#### Print the final weights and determine the top 2 most important features:"
      ]
    },
    {
      "cell_type": "code",
      "execution_count": null,
      "metadata": {
        "id": "eTVFjLPQQP5l"
      },
      "outputs": [],
      "source": [
        "#Code\n",
        "\n"
      ]
    },
    {
      "cell_type": "markdown",
      "metadata": {
        "jp-MarkdownHeadingCollapsed": true,
        "tags": [],
        "id": "2VxoJBk3QP5l"
      },
      "source": [
        "#### Solution:"
      ]
    },
    {
      "cell_type": "code",
      "execution_count": null,
      "metadata": {
        "id": "KGlIsgX3QP5l",
        "outputId": "105c9769-4ef9-4aa1-b49d-cd42a022da5d",
        "colab": {
          "base_uri": "https://localhost:8080/"
        }
      },
      "outputs": [
        {
          "output_type": "stream",
          "name": "stdout",
          "text": [
            "[[  6.8818]\n",
            " [  7.3908]\n",
            " [  5.632 ]\n",
            " [  7.2358]\n",
            " [  7.6253]\n",
            " [  6.754 ]\n",
            " [  3.3251]\n",
            " [  9.7287]\n",
            " [  5.6011]\n",
            " [-10.2469]\n",
            " [  5.5645]\n",
            " [  5.6762]\n",
            " [ -4.4088]]\n"
          ]
        }
      ],
      "source": [
        "print(weights['W2'])"
      ]
    },
    {
      "cell_type": "markdown",
      "metadata": {
        "id": "wz1pggpoQP5l"
      },
      "source": [
        "At index 7 and index 9 have the greatest absolute value. Here are the combinations themselves:"
      ]
    },
    {
      "cell_type": "code",
      "execution_count": 28,
      "metadata": {
        "scrolled": true,
        "id": "tNi9dnVTQP5l",
        "outputId": "9472d74c-c45b-4ab5-f741-7d10a1d8be0c",
        "colab": {
          "base_uri": "https://localhost:8080/"
        }
      },
      "outputs": [
        {
          "output_type": "execute_result",
          "data": {
            "text/plain": [
              "array([  0.1016,  -4.458 ,   1.2472,   3.9503,   0.8336,  -2.5708,\n",
              "       -10.1209,  -1.3865,  -1.2258,   0.7769,  -3.2335,   2.7414,\n",
              "        -0.0285])"
            ]
          },
          "metadata": {},
          "execution_count": 28
        }
      ],
      "source": [
        "weights['W1'][7]"
      ]
    },
    {
      "cell_type": "code",
      "execution_count": null,
      "metadata": {
        "id": "X_gHKASWQP5l",
        "outputId": "7414dce5-96b5-42bd-8ab8-a9e02878c994",
        "colab": {
          "base_uri": "https://localhost:8080/"
        }
      },
      "outputs": [
        {
          "output_type": "execute_result",
          "data": {
            "text/plain": [
              "array([-2.6785,  3.9213,  2.2398, -3.6323, -0.2241,  3.1889,  0.3231,\n",
              "        0.4316, -1.9733,  0.2403, -1.4463, -0.5084,  1.5561])"
            ]
          },
          "metadata": {},
          "execution_count": 39
        }
      ],
      "source": [
        "weights['W1'][9]"
      ]
    },
    {
      "cell_type": "markdown",
      "metadata": {
        "id": "y3s63SfFQP5l"
      },
      "source": [
        "### Error"
      ]
    },
    {
      "cell_type": "code",
      "execution_count": null,
      "metadata": {
        "id": "XMGCicclQP5l",
        "outputId": "9b4b42dd-1dd4-4f33-9e94-c4ba9d61378e",
        "colab": {
          "base_uri": "https://localhost:8080/"
        }
      },
      "outputs": [
        {
          "output_type": "stream",
          "name": "stdout",
          "text": [
            "Mean absolute error: 2.5951 \n",
            "Root mean squared error: 3.8851\n"
          ]
        }
      ],
      "source": [
        "print(\"Mean absolute error:\", round(mae(preds, y_test), 4), \"\\n\"\n",
        "      \"Root mean squared error:\", round(rmse(preds, y_test), 4))"
      ]
    },
    {
      "cell_type": "code",
      "execution_count": null,
      "metadata": {
        "id": "QP84DiVLQP5l",
        "outputId": "a619312a-4846-41e0-8075-eae0d39f94dd",
        "colab": {
          "base_uri": "https://localhost:8080/",
          "height": 310
        }
      },
      "outputs": [
        {
          "output_type": "display_data",
          "data": {
            "text/plain": [
              "<Figure size 432x288 with 1 Axes>"
            ],
            "image/png": "[encoded data removed]"
          },
          "metadata": {
            "needs_background": "light"
          }
        }
      ],
      "source": [
        "plt.xlabel(\"Predicted value\")\n",
        "plt.ylabel(\"Target\")\n",
        "plt.title(\"Predicted value vs. target,\\n neural network regression\")\n",
        "plt.xlim([0, 51])\n",
        "plt.ylim([0, 51])\n",
        "plt.scatter(preds, y_test)\n",
        "plt.plot([0, 51], [0, 51]);\n"
      ]
    },
    {
      "cell_type": "code",
      "execution_count": null,
      "metadata": {
        "id": "WFfPNCCpQP5m",
        "outputId": "1f5a3ebd-4b64-49dd-8c30-56bfccd3215d",
        "colab": {
          "base_uri": "https://localhost:8080/"
        }
      },
      "outputs": [
        {
          "output_type": "execute_result",
          "data": {
            "text/plain": [
              "2.5951"
            ]
          },
          "metadata": {},
          "execution_count": 42
        }
      ],
      "source": [
        "np.round(np.mean(np.array(np.abs(preds - y_test))), 4)"
      ]
    },
    {
      "cell_type": "code",
      "execution_count": null,
      "metadata": {
        "id": "SYkK5Zd0QP5m",
        "outputId": "90ff22fa-3594-49ac-f6e0-0f0756dd7a47",
        "colab": {
          "base_uri": "https://localhost:8080/"
        }
      },
      "outputs": [
        {
          "output_type": "execute_result",
          "data": {
            "text/plain": [
              "15.0943"
            ]
          },
          "metadata": {},
          "execution_count": 43
        }
      ],
      "source": [
        "np.round(np.mean(np.array(np.power(preds - y_test, 2))), 4)"
      ]
    },
    {
      "cell_type": "markdown",
      "metadata": {
        "id": "KA4qqd71QP5m"
      },
      "source": [
        "## Theoretical relationship between most important feature and target"
      ]
    },
    {
      "cell_type": "code",
      "execution_count": null,
      "metadata": {
        "id": "5yJ2ZBbCQP5m"
      },
      "outputs": [],
      "source": [
        "NUM = 40\n",
        "a = np.repeat(X_test[:,:-1].mean(axis=0, keepdims=True), NUM, axis=0)\n",
        "b = np.linspace(-1.5, 3.5, NUM).reshape(NUM, 1)\n",
        "test_feature = np.concatenate([a, b], axis=1)\n",
        "preds_test = predict(test_feature, weights)[:, 0]"
      ]
    },
    {
      "cell_type": "code",
      "execution_count": null,
      "metadata": {
        "scrolled": true,
        "id": "fdj6dwdoQP5m",
        "outputId": "5d730080-581c-4f66-dc7a-880d062dcd82",
        "colab": {
          "base_uri": "https://localhost:8080/",
          "height": 310
        }
      },
      "outputs": [
        {
          "output_type": "display_data",
          "data": {
            "text/plain": [
              "<Figure size 432x288 with 1 Axes>"
            ],
            "image/png": "[encoded data removed]"
          },
          "metadata": {
            "needs_background": "light"
          }
        }
      ],
      "source": [
        "plt.scatter(X_test[:, 12], preds)\n",
        "plt.plot(np.array(test_feature[:, -1]), preds_test, linewidth=2, c='orange')\n",
        "plt.ylim([6, 51])\n",
        "plt.xlabel(\"Most important feature (normalized)\")\n",
        "plt.ylabel(\"Target/Predictions\")\n",
        "plt.title(\"Most important feature vs. target and predictions,\\n neural network regression\");\n"
      ]
    },
    {
      "cell_type": "markdown",
      "metadata": {
        "id": "_hA2hrVXQP5m"
      },
      "source": [
        "### Go to the following link: https://scikit-learn.org/stable/modules/linear_model.html\n",
        "\n",
        "### Try any (or many) of the models on our earlier dataset. Train them with .fit() and generate predictions with .predict(). Compare the MAE and RMSE to the earlier model with different linear models from the link. Generate a scatterplot using matplotlib with the predictions and y_test to see the distribution of our predicted data."
      ]
    },
    {
      "cell_type": "code",
      "execution_count": 51,
      "metadata": {
        "id": "Ppca5RCXQP5m",
        "colab": {
          "base_uri": "https://localhost:8080/",
          "height": 352
        },
        "outputId": "2f1a9738-e8fb-4629-f144-9e68fe631407"
      },
      "outputs": [
        {
          "output_type": "stream",
          "name": "stdout",
          "text": [
            "Mean Absolute Error: 9.219235 \n",
            "Root Mean Squared Error: 12.085982\n",
            "Weights: [-0.8062  0.3021 -0.0424  0.7514 -1.4326  2.5559  0.3041 -2.0069  1.157\n",
            " -0.6863 -2.0706  0.7685 -3.8015]\n",
            "\n"
          ]
        },
        {
          "output_type": "display_data",
          "data": {
            "text/plain": [
              "<Figure size 432x288 with 1 Axes>"
            ],
            "image/png": "[encoded data removed]"
          },
          "metadata": {
            "needs_background": "light"
          }
        }
      ],
      "source": [
        "# Code\n",
        "from sklearn import linear_model\n",
        "\n",
        "model = linear_model.ElasticNet(alpha=0.1, max_iter=1000)\n",
        "# model = linear_model.LinearRegression()\n",
        "model.fit(X_train, y_train)\n",
        "\n",
        "weights = model.coef_\n",
        "preds = model.predict(X_test)\n",
        "\n",
        "print(\"Mean Absolute Error: %f \\nRoot Mean Squared Error: %f\" % (mae(preds=preds, actuals=y_test), rmse(preds=preds, actuals=y_test)))\n",
        "print(\"Weights:\",weights)\n",
        "print()\n",
        "plt.scatter(preds, y_test);"
      ]
    },
    {
      "cell_type": "markdown",
      "metadata": {
        "jp-MarkdownHeadingCollapsed": true,
        "tags": [],
        "id": "ur9W7b98QP5m"
      },
      "source": [
        "### Solution:"
      ]
    },
    {
      "cell_type": "code",
      "execution_count": null,
      "metadata": {
        "id": "HC34p5m7QP5m",
        "outputId": "e001674a-0a9f-4931-8fa0-b65c78d766c1",
        "colab": {
          "base_uri": "https://localhost:8080/",
          "height": 352
        }
      },
      "outputs": [
        {
          "output_type": "stream",
          "name": "stdout",
          "text": [
            "Mean absolute error: 9.4033 \n",
            "Root mean squared error: 12.3394\n",
            "Weights: [-0.9914  0.6537  0.1924  0.7122 -2.1249  2.3909  0.6678 -2.6262  2.4579\n",
            " -1.6542 -2.3045  0.8343 -4.1689]\n"
          ]
        },
        {
          "output_type": "execute_result",
          "data": {
            "text/plain": [
              "<matplotlib.collections.PathCollection at 0x7fb852cf0640>"
            ]
          },
          "metadata": {},
          "execution_count": 46
        },
        {
          "output_type": "display_data",
          "data": {
            "text/plain": [
              "<Figure size 432x288 with 1 Axes>"
            ],
            "image/png": "[encoded data removed]"
          },
          "metadata": {
            "needs_background": "light"
          }
        }
      ],
      "source": [
        "from sklearn import linear_model\n",
        "from sklearn import preprocessing\n",
        "from sklearn import utils\n",
        "\n",
        "model = linear_model.Lasso(alpha=0.01)\n",
        "model.fit(X_train,y_train)\n",
        "weights = model.coef_\n",
        "preds = model.predict(X_test)\n",
        "\n",
        "print(\"Mean absolute error:\", round(mae(preds, y_test), 4), \"\\n\"\n",
        "      \"Root mean squared error:\", round(rmse(preds, y_test), 4))\n",
        "print(\"Weights:\",weights)\n",
        "plt.scatter(preds,y_test)\n",
        "# plt.plot([0, 51], [0, 51]);\n",
        "\n",
        "\n",
        "\n"
      ]
    },
    {
      "cell_type": "code",
      "execution_count": null,
      "metadata": {
        "id": "_wYOQR8jQP5m"
      },
      "outputs": [],
      "source": []
    }
  ],
  "metadata": {
    "kernelspec": {
      "display_name": "Python 3 (ipykernel)",
      "language": "python",
      "name": "python3"
    },
    "language_info": {
      "codemirror_mode": {
        "name": "ipython",
        "version": 3
      },
      "file_extension": ".py",
      "mimetype": "text/x-python",
      "name": "python",
      "nbconvert_exporter": "python",
      "pygments_lexer": "ipython3",
      "version": "3.9.13"
    },
    "colab": {
      "provenance": []
    }
  },
  "nbformat": 4,
  "nbformat_minor": 0
}